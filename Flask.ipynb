{
 "cells": [
  {
   "cell_type": "code",
   "execution_count": 2,
   "id": "1d20757d",
   "metadata": {},
   "outputs": [
    {
     "name": "stdout",
     "output_type": "stream",
     "text": [
      " * Serving Flask app \"__main__\" (lazy loading)\n",
      " * Environment: production\n",
      "\u001b[31m   WARNING: This is a development server. Do not use it in a production deployment.\u001b[0m\n",
      "\u001b[2m   Use a production WSGI server instead.\u001b[0m\n",
      " * Debug mode: off\n"
     ]
    },
    {
     "name": "stderr",
     "output_type": "stream",
     "text": [
      " * Running on http://127.0.0.1:5000/ (Press CTRL+C to quit)\n",
      "127.0.0.1 - - [07/Dec/2022 21:17:49] \"GET / HTTP/1.1\" 404 -\n",
      "127.0.0.1 - - [07/Dec/2022 21:18:05] \"GET /sirizomato HTTP/1.1\" 200 -\n"
     ]
    }
   ],
   "source": [
    "from flask import Flask    \n",
    "app = Flask(__name__)\n",
    "\n",
    "@app.route('/sirizomato')      \n",
    "def sirizomato():\n",
    "    return 'HELLO'\n",
    "  \n",
    "if __name__==\"__main__\":\n",
    "   app.run()"
   ]
  },
  {
   "cell_type": "code",
   "execution_count": null,
   "id": "23161e6c",
   "metadata": {},
   "outputs": [],
   "source": []
  },
  {
   "cell_type": "code",
   "execution_count": null,
   "id": "701a9907",
   "metadata": {},
   "outputs": [],
   "source": [
    "from flask import Flask    \n",
    "app = Flask(__name__)\n",
    "\n",
    "@app.route('/siriubereats')\n",
    "def sirizomato():\n",
    "    return 'HELLO'\n",
    "  \n",
    "if __name__==\"__main__\":\n",
    "   app.run()"
   ]
  }
 ],
 "metadata": {
  "kernelspec": {
   "display_name": "Python 3 (ipykernel)",
   "language": "python",
   "name": "python3"
  },
  "language_info": {
   "codemirror_mode": {
    "name": "ipython",
    "version": 3
   },
   "file_extension": ".py",
   "mimetype": "text/x-python",
   "name": "python",
   "nbconvert_exporter": "python",
   "pygments_lexer": "ipython3",
   "version": "3.9.12"
  }
 },
 "nbformat": 4,
 "nbformat_minor": 5
}
